{
 "cells": [
  {
   "cell_type": "code",
   "execution_count": null,
   "id": "d5652896",
   "metadata": {},
   "outputs": [],
   "source": [
    "import numpy as np\n",
    "import pandas as pd"
   ]
  },
  {
   "cell_type": "code",
   "execution_count": null,
   "id": "fd631583",
   "metadata": {},
   "outputs": [],
   "source": [
    "df_tweets = pd.read_csv('../Data/Tweet.csv')\n",
    "df_tweets"
   ]
  },
  {
   "cell_type": "code",
   "execution_count": null,
   "id": "dc534693",
   "metadata": {},
   "outputs": [],
   "source": [
    "dfCT = pd.read_csv('../Data/Company_Tweet.csv')\n",
    "dfCT"
   ]
  },
  {
   "cell_type": "code",
   "execution_count": null,
   "id": "666e56fd",
   "metadata": {},
   "outputs": [],
   "source": [
    "# get tweets IDs that contains TSLA ticker\n",
    "id_tweet = []\n",
    "for i in dfCT.index:\n",
    "    if(dfCT['ticker_symbol'][i] == 'TSLA'):\n",
    "        print(dfCT['tweet_id'][i])\n",
    "        id_tweet.append(dfCT['tweet_id'][i])  "
   ]
  },
  {
   "cell_type": "code",
   "execution_count": null,
   "id": "6004251b",
   "metadata": {},
   "outputs": [],
   "source": [
    "df_tsla = df_tweets[df_tweets['tweet_id'].isin(id_tweet)]\n",
    "df_tsla"
   ]
  },
  {
   "cell_type": "code",
   "execution_count": 8,
   "id": "788e8128",
   "metadata": {},
   "outputs": [
    {
     "data": {
      "text/plain": [
       "'$TSLA Very Interesting dude:'"
      ]
     },
     "execution_count": 8,
     "metadata": {},
     "output_type": "execute_result"
    }
   ],
   "source": [
    "df_tsla['body'][3717954]"
   ]
  },
  {
   "cell_type": "code",
   "execution_count": 9,
   "id": "58e8bb39",
   "metadata": {},
   "outputs": [],
   "source": [
    "df_tsla.to_csv('tesla_tweets_data.csv', index=True)"
   ]
  },
  {
   "cell_type": "code",
   "execution_count": null,
   "id": "a6c12fb0",
   "metadata": {},
   "outputs": [],
   "source": [
    "df_tsla2 = pd.read_csv('tesla_tweets_data.csv')\n",
    "df_tsla2"
   ]
  },
  {
   "cell_type": "code",
   "execution_count": 13,
   "id": "922e7738",
   "metadata": {},
   "outputs": [
    {
     "data": {
      "text/html": [
       "<div>\n",
       "<style scoped>\n",
       "    .dataframe tbody tr th:only-of-type {\n",
       "        vertical-align: middle;\n",
       "    }\n",
       "\n",
       "    .dataframe tbody tr th {\n",
       "        vertical-align: top;\n",
       "    }\n",
       "\n",
       "    .dataframe thead th {\n",
       "        text-align: right;\n",
       "    }\n",
       "</style>\n",
       "<table border=\"1\" class=\"dataframe\">\n",
       "  <thead>\n",
       "    <tr style=\"text-align: right;\">\n",
       "      <th></th>\n",
       "      <th>tweet_id</th>\n",
       "      <th>writer</th>\n",
       "      <th>post_date</th>\n",
       "      <th>body</th>\n",
       "      <th>comment_num</th>\n",
       "      <th>retweet_num</th>\n",
       "      <th>like_num</th>\n",
       "    </tr>\n",
       "  </thead>\n",
       "  <tbody>\n",
       "    <tr>\n",
       "      <th>0</th>\n",
       "      <td>550442977802207232</td>\n",
       "      <td>ShowDreamCar</td>\n",
       "      <td>1420070807</td>\n",
       "      <td>$GM $TSLA: Volkswagen Pushes 2014 Record Recal...</td>\n",
       "      <td>0</td>\n",
       "      <td>0</td>\n",
       "      <td>1</td>\n",
       "    </tr>\n",
       "    <tr>\n",
       "      <th>1</th>\n",
       "      <td>550443807834402816</td>\n",
       "      <td>i_Know_First</td>\n",
       "      <td>1420071005</td>\n",
       "      <td>Swing Trading: Up To 8.91% Return In 14 Days h...</td>\n",
       "      <td>0</td>\n",
       "      <td>0</td>\n",
       "      <td>1</td>\n",
       "    </tr>\n",
       "    <tr>\n",
       "      <th>2</th>\n",
       "      <td>550443808606126081</td>\n",
       "      <td>aaplstocknews</td>\n",
       "      <td>1420071005</td>\n",
       "      <td>Swing Trading: Up To 8.91% Return In 14 Days h...</td>\n",
       "      <td>0</td>\n",
       "      <td>0</td>\n",
       "      <td>1</td>\n",
       "    </tr>\n",
       "    <tr>\n",
       "      <th>3</th>\n",
       "      <td>550443809700851716</td>\n",
       "      <td>iknowfirst</td>\n",
       "      <td>1420071005</td>\n",
       "      <td>Swing Trading: Up To 8.91% Return In 14 Days h...</td>\n",
       "      <td>0</td>\n",
       "      <td>0</td>\n",
       "      <td>1</td>\n",
       "    </tr>\n",
       "    <tr>\n",
       "      <th>4</th>\n",
       "      <td>550443857142611968</td>\n",
       "      <td>Cprediction</td>\n",
       "      <td>1420071016</td>\n",
       "      <td>Swing Trading: Up To 8.91% Return In 14 Days h...</td>\n",
       "      <td>0</td>\n",
       "      <td>0</td>\n",
       "      <td>1</td>\n",
       "    </tr>\n",
       "    <tr>\n",
       "      <th>...</th>\n",
       "      <td>...</td>\n",
       "      <td>...</td>\n",
       "      <td>...</td>\n",
       "      <td>...</td>\n",
       "      <td>...</td>\n",
       "      <td>...</td>\n",
       "      <td>...</td>\n",
       "    </tr>\n",
       "    <tr>\n",
       "      <th>1096863</th>\n",
       "      <td>1212158772015034369</td>\n",
       "      <td>StockJoke</td>\n",
       "      <td>1577836146</td>\n",
       "      <td>I'm getting wasted on NYE, and thanks to @NHTS...</td>\n",
       "      <td>0</td>\n",
       "      <td>0</td>\n",
       "      <td>0</td>\n",
       "    </tr>\n",
       "    <tr>\n",
       "      <th>1096864</th>\n",
       "      <td>1212159099632267268</td>\n",
       "      <td>sweetog76</td>\n",
       "      <td>1577836224</td>\n",
       "      <td>$TSLA Very Interesting dude:</td>\n",
       "      <td>0</td>\n",
       "      <td>0</td>\n",
       "      <td>0</td>\n",
       "    </tr>\n",
       "    <tr>\n",
       "      <th>1096865</th>\n",
       "      <td>1212159184931717120</td>\n",
       "      <td>MelaynaLokosky</td>\n",
       "      <td>1577836245</td>\n",
       "      <td>If only 2020 brought more self-awareness to Te...</td>\n",
       "      <td>0</td>\n",
       "      <td>1</td>\n",
       "      <td>0</td>\n",
       "    </tr>\n",
       "    <tr>\n",
       "      <th>1096866</th>\n",
       "      <td>1212159838882533376</td>\n",
       "      <td>ShortingIsFun</td>\n",
       "      <td>1577836401</td>\n",
       "      <td>In 2020 I may start Tweeting out positive news...</td>\n",
       "      <td>0</td>\n",
       "      <td>0</td>\n",
       "      <td>1</td>\n",
       "    </tr>\n",
       "    <tr>\n",
       "      <th>1096867</th>\n",
       "      <td>1212160015332728833</td>\n",
       "      <td>Commuternyc</td>\n",
       "      <td>1577836443</td>\n",
       "      <td>Patiently Waiting for the no twitter sitter tw...</td>\n",
       "      <td>0</td>\n",
       "      <td>0</td>\n",
       "      <td>5</td>\n",
       "    </tr>\n",
       "  </tbody>\n",
       "</table>\n",
       "<p>1096868 rows × 7 columns</p>\n",
       "</div>"
      ],
      "text/plain": [
       "                    tweet_id          writer   post_date  \\\n",
       "0         550442977802207232    ShowDreamCar  1420070807   \n",
       "1         550443807834402816    i_Know_First  1420071005   \n",
       "2         550443808606126081   aaplstocknews  1420071005   \n",
       "3         550443809700851716      iknowfirst  1420071005   \n",
       "4         550443857142611968     Cprediction  1420071016   \n",
       "...                      ...             ...         ...   \n",
       "1096863  1212158772015034369       StockJoke  1577836146   \n",
       "1096864  1212159099632267268       sweetog76  1577836224   \n",
       "1096865  1212159184931717120  MelaynaLokosky  1577836245   \n",
       "1096866  1212159838882533376   ShortingIsFun  1577836401   \n",
       "1096867  1212160015332728833     Commuternyc  1577836443   \n",
       "\n",
       "                                                      body  comment_num  \\\n",
       "0        $GM $TSLA: Volkswagen Pushes 2014 Record Recal...            0   \n",
       "1        Swing Trading: Up To 8.91% Return In 14 Days h...            0   \n",
       "2        Swing Trading: Up To 8.91% Return In 14 Days h...            0   \n",
       "3        Swing Trading: Up To 8.91% Return In 14 Days h...            0   \n",
       "4        Swing Trading: Up To 8.91% Return In 14 Days h...            0   \n",
       "...                                                    ...          ...   \n",
       "1096863  I'm getting wasted on NYE, and thanks to @NHTS...            0   \n",
       "1096864                       $TSLA Very Interesting dude:            0   \n",
       "1096865  If only 2020 brought more self-awareness to Te...            0   \n",
       "1096866  In 2020 I may start Tweeting out positive news...            0   \n",
       "1096867  Patiently Waiting for the no twitter sitter tw...            0   \n",
       "\n",
       "         retweet_num  like_num  \n",
       "0                  0         1  \n",
       "1                  0         1  \n",
       "2                  0         1  \n",
       "3                  0         1  \n",
       "4                  0         1  \n",
       "...              ...       ...  \n",
       "1096863            0         0  \n",
       "1096864            0         0  \n",
       "1096865            1         0  \n",
       "1096866            0         1  \n",
       "1096867            0         5  \n",
       "\n",
       "[1096868 rows x 7 columns]"
      ]
     },
     "execution_count": 13,
     "metadata": {},
     "output_type": "execute_result"
    }
   ],
   "source": [
    "df_tsla2 = df_tsla2.drop(columns=['Unnamed: 0'])\n",
    "df_tsla2"
   ]
  },
  {
   "cell_type": "code",
   "execution_count": null,
   "id": "4a8ced5b",
   "metadata": {},
   "outputs": [],
   "source": [
    "df_tsla.to_csv('tesla_tweets_data.csv', index=False)"
   ]
  },
  {
   "cell_type": "code",
   "execution_count": null,
   "id": "ab3dfdfd",
   "metadata": {},
   "outputs": [],
   "source": [
    "df_tsla3 = pd.read_csv('tesla_tweets_data.csv')\n",
    "df_tsla3"
   ]
  }
 ],
 "metadata": {
  "kernelspec": {
   "display_name": "Python 3 (ipykernel)",
   "language": "python",
   "name": "python3"
  },
  "language_info": {
   "codemirror_mode": {
    "name": "ipython",
    "version": 3
   },
   "file_extension": ".py",
   "mimetype": "text/x-python",
   "name": "python",
   "nbconvert_exporter": "python",
   "pygments_lexer": "ipython3",
   "version": "3.9.13"
  }
 },
 "nbformat": 4,
 "nbformat_minor": 5
}
